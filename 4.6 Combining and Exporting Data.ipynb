{
 "cells": [
  {
   "cell_type": "code",
   "execution_count": 2,
   "id": "be052926",
   "metadata": {},
   "outputs": [],
   "source": [
    "#importing libraries\n",
    "import pandas as pd\n",
    "import numpy as np\n",
    "import os"
   ]
  },
  {
   "cell_type": "code",
   "execution_count": 3,
   "id": "62d30ad8",
   "metadata": {},
   "outputs": [],
   "source": [
    "# identifying path \n",
    "path = r'C:\\Users\\julia\\Instacart Basket Analysis 11\\8'"
   ]
  },
  {
   "cell_type": "code",
   "execution_count": 4,
   "id": "f9a137a7",
   "metadata": {},
   "outputs": [
    {
     "data": {
      "text/plain": [
       "'C:\\\\Users\\\\julia\\\\Instacart Basket Analysis 11\\\\8'"
      ]
     },
     "execution_count": 4,
     "metadata": {},
     "output_type": "execute_result"
    }
   ],
   "source": [
    "#executing path \n",
    "path"
   ]
  },
  {
   "cell_type": "markdown",
   "id": "46c8b928",
   "metadata": {},
   "source": [
    "#1 Merge prepared Instacart orders data with new orders_products_prior."
   ]
  },
  {
   "cell_type": "code",
   "execution_count": 5,
   "id": "c08292c1",
   "metadata": {},
   "outputs": [],
   "source": [
    "#importing data set\n",
    "df_ords_prior = pd.read_csv(os.path.join(path, '02 Data', 'Original Data', 'order_products__prior.csv'), index_col = False)"
   ]
  },
  {
   "cell_type": "code",
   "execution_count": 6,
   "id": "4c398a39",
   "metadata": {},
   "outputs": [],
   "source": [
    "#importing orders csv data\n",
    "df_ords = pd.read_csv(os.path.join(path, '02 Data', 'Original Data', 'orders.csv'), index_col = False)"
   ]
  },
  {
   "cell_type": "code",
   "execution_count": 7,
   "id": "44f00835",
   "metadata": {},
   "outputs": [
    {
     "data": {
      "text/plain": [
       "(32434489, 4)"
      ]
     },
     "execution_count": 7,
     "metadata": {},
     "output_type": "execute_result"
    }
   ],
   "source": [
    "#checking dimension \n",
    "df_ords_prior.shape"
   ]
  },
  {
   "cell_type": "code",
   "execution_count": 8,
   "id": "5a0b939d",
   "metadata": {},
   "outputs": [],
   "source": [
    "df_merged_large = df_ords.merge(df_ords_prior, on = 'order_id', indicator = True)"
   ]
  },
  {
   "cell_type": "markdown",
   "id": "046cf8f5",
   "metadata": {},
   "source": [
    "#2 Export merged file in pickle format as \"orders_products_combined.pkl"
   ]
  },
  {
   "cell_type": "code",
   "execution_count": 9,
   "id": "13129ead",
   "metadata": {},
   "outputs": [],
   "source": [
    "df_merged_large.to_pickle(os.path.join(path, '02 Data', 'Prepared Data', 'orders_products_combined.pkl'))"
   ]
  },
  {
   "cell_type": "markdown",
   "id": "b6384dff",
   "metadata": {},
   "source": [
    "#3 Import orders_products_combined dataframe from pickle file you just saved"
   ]
  },
  {
   "cell_type": "code",
   "execution_count": 10,
   "id": "75b80094",
   "metadata": {},
   "outputs": [],
   "source": [
    "df_orders_products_combined = pd.read_pickle(os.path.join(path, '02 Data', 'Prepared Data', 'orders_products_combined.pkl'))"
   ]
  },
  {
   "cell_type": "markdown",
   "id": "51eb9bfd",
   "metadata": {},
   "source": [
    "#4 Checking the shape of imported dataframe."
   ]
  },
  {
   "cell_type": "code",
   "execution_count": 11,
   "id": "1b2a7d2d",
   "metadata": {},
   "outputs": [
    {
     "data": {
      "text/plain": [
       "(32434489, 11)"
      ]
     },
     "execution_count": 11,
     "metadata": {},
     "output_type": "execute_result"
    }
   ],
   "source": [
    "df_orders_products_combined.shape"
   ]
  },
  {
   "cell_type": "markdown",
   "id": "b649358c",
   "metadata": {},
   "source": [
    "#5 Determine a suitable way to combine order_products_combined dataframe with your products data set."
   ]
  },
  {
   "cell_type": "code",
   "execution_count": 13,
   "id": "1794d49f",
   "metadata": {},
   "outputs": [],
   "source": [
    "# Importing 'products_checked.csv'\n",
    "df_prods_checked = pd.read_csv(os.path.join(path, '02 Data', 'Prepared Data', 'products_checked.csv'), index_col = False)"
   ]
  },
  {
   "cell_type": "code",
   "execution_count": 14,
   "id": "736d66ba",
   "metadata": {},
   "outputs": [],
   "source": [
    "# Dropping '_merge' column from 'orders_products_combined.pkl'\n",
    "df_orders_products_combined = df_orders_products_combined.drop(columns = ['_merge'])"
   ]
  },
  {
   "cell_type": "code",
   "execution_count": 15,
   "id": "3898f8d9",
   "metadata": {},
   "outputs": [],
   "source": [
    "# Merging\n",
    "df_orders_products_merged = df_orders_products_combined.merge(df_prods_checked, on = 'product_id', indicator = True)"
   ]
  },
  {
   "cell_type": "markdown",
   "id": "3003c066",
   "metadata": {},
   "source": [
    "#6 Confirm results of merge using merge flag."
   ]
  },
  {
   "cell_type": "code",
   "execution_count": 17,
   "id": "635e8593",
   "metadata": {},
   "outputs": [
    {
     "data": {
      "text/plain": [
       "both          32404859\n",
       "left_only            0\n",
       "right_only           0\n",
       "Name: _merge, dtype: int64"
      ]
     },
     "execution_count": 17,
     "metadata": {},
     "output_type": "execute_result"
    }
   ],
   "source": [
    "df_orders_products_merged['_merge'].value_counts()"
   ]
  },
  {
   "cell_type": "code",
   "execution_count": 18,
   "id": "c2a2a215",
   "metadata": {},
   "outputs": [
    {
     "data": {
      "text/plain": [
       "(32404859, 16)"
      ]
     },
     "execution_count": 18,
     "metadata": {},
     "output_type": "execute_result"
    }
   ],
   "source": [
    "df_orders_products_merged.shape"
   ]
  },
  {
   "cell_type": "markdown",
   "id": "ae376718",
   "metadata": {},
   "source": [
    "#7 Export the newly created dataframe as orders_products_merged in a suitable format (taking into consideration the size)"
   ]
  },
  {
   "cell_type": "code",
   "execution_count": 19,
   "id": "f32e27cf",
   "metadata": {},
   "outputs": [],
   "source": [
    "# Import to PKL\n",
    "df_orders_products_merged.to_pickle(os.path.join(path, '02 Data','Prepared Data', 'orders_products_merged.pkl'))"
   ]
  }
 ],
 "metadata": {
  "kernelspec": {
   "display_name": "Python 3 (ipykernel)",
   "language": "python",
   "name": "python3"
  },
  "language_info": {
   "codemirror_mode": {
    "name": "ipython",
    "version": 3
   },
   "file_extension": ".py",
   "mimetype": "text/x-python",
   "name": "python",
   "nbconvert_exporter": "python",
   "pygments_lexer": "ipython3",
   "version": "3.9.13"
  }
 },
 "nbformat": 4,
 "nbformat_minor": 5
}
