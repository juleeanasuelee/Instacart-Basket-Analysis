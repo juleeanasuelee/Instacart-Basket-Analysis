{
 "cells": [
  {
   "cell_type": "code",
   "execution_count": 1,
   "id": "c2fa1816",
   "metadata": {},
   "outputs": [],
   "source": [
    "# import libraries \n",
    "import pandas as pd \n",
    "import numpy as np\n",
    "import os "
   ]
  },
  {
   "cell_type": "code",
   "execution_count": 2,
   "id": "497aec1d",
   "metadata": {},
   "outputs": [],
   "source": [
    "# Working with Python data types"
   ]
  },
  {
   "cell_type": "code",
   "execution_count": 3,
   "id": "7eb11a1b",
   "metadata": {},
   "outputs": [
    {
     "data": {
      "text/plain": [
       "100"
      ]
     },
     "execution_count": 3,
     "metadata": {},
     "output_type": "execute_result"
    }
   ],
   "source": [
    "# 3 different ways of reaching a result of 100 by adding or subtracting numeric variables\n",
    "x = 60 \n",
    "y = 40\n",
    "z = 140\n",
    "x + y\n",
    "z - y\n",
    "z - x + 20"
   ]
  },
  {
   "cell_type": "code",
   "execution_count": 9,
   "id": "bf29b9f6",
   "metadata": {},
   "outputs": [
    {
     "data": {
      "text/plain": [
       "0.5"
      ]
     },
     "execution_count": 9,
     "metadata": {},
     "output_type": "execute_result"
    }
   ],
   "source": [
    "# Divide 2 floating point variables by each other. \n",
    "a = 5.2 \n",
    "b = 10.4 \n",
    "a / b"
   ]
  },
  {
   "cell_type": "code",
   "execution_count": 10,
   "id": "7526ef94",
   "metadata": {},
   "outputs": [
    {
     "data": {
      "text/plain": [
       "2.0"
      ]
     },
     "execution_count": 10,
     "metadata": {},
     "output_type": "execute_result"
    }
   ],
   "source": [
    "b / a "
   ]
  },
  {
   "cell_type": "code",
   "execution_count": 11,
   "id": "5ba8ec62",
   "metadata": {},
   "outputs": [
    {
     "name": "stdout",
     "output_type": "stream",
     "text": [
      "Pie\n"
     ]
    }
   ],
   "source": [
    "# Construct a short word made of separate strings\n",
    "p = 'P'\n",
    "i = 'i'\n",
    "e = 'e'\n",
    "c = p + i + e\n",
    "print (c)"
   ]
  },
  {
   "cell_type": "code",
   "execution_count": 17,
   "id": "37b3cea8",
   "metadata": {},
   "outputs": [
    {
     "data": {
      "text/plain": [
       "'I love my dogs'"
      ]
     },
     "execution_count": 17,
     "metadata": {},
     "output_type": "execute_result"
    }
   ],
   "source": [
    "# Construct 2 short sentences made of separate strings. \n",
    "d = 'I '\n",
    "f = 'love '\n",
    "g = 'my '\n",
    "h = 'dogs'\n",
    "j = ' are '\n",
    "k = 'Pepper '\n",
    "l = 'and '\n",
    "m = 'Cloud.'\n",
    "n = 'My '\n",
    "d + f + g + h"
   ]
  },
  {
   "cell_type": "code",
   "execution_count": 18,
   "id": "7c8ec5d2",
   "metadata": {},
   "outputs": [
    {
     "data": {
      "text/plain": [
       "'My dogs are Pepper and Cloud.'"
      ]
     },
     "execution_count": 18,
     "metadata": {},
     "output_type": "execute_result"
    }
   ],
   "source": [
    "n + h + j + k + l + m"
   ]
  },
  {
   "cell_type": "code",
   "execution_count": 4,
   "id": "3e40ab88",
   "metadata": {},
   "outputs": [
    {
     "data": {
      "text/plain": [
       "'Pepper and Cloud Pepper and Cloud Pepper and Cloud Pepper and Cloud Pepper and Cloud Pepper and Cloud Pepper and Cloud Pepper and Cloud Pepper and Cloud Pepper and Cloud Pepper and Cloud Pepper and Cloud Pepper and Cloud Pepper and Cloud Pepper and Cloud Pepper and Cloud Pepper and Cloud Pepper and Cloud Pepper and Cloud Pepper and Cloud Pepper and Cloud Pepper and Cloud Pepper and Cloud Pepper and Cloud Pepper and Cloud Pepper and Cloud Pepper and Cloud Pepper and Cloud Pepper and Cloud Pepper and Cloud Pepper and Cloud Pepper and Cloud Pepper and Cloud Pepper and Cloud Pepper and Cloud Pepper and Cloud Pepper and Cloud Pepper and Cloud Pepper and Cloud Pepper and Cloud Pepper and Cloud Pepper and Cloud Pepper and Cloud Pepper and Cloud Pepper and Cloud Pepper and Cloud Pepper and Cloud Pepper and Cloud Pepper and Cloud Pepper and Cloud Pepper and Cloud Pepper and Cloud Pepper and Cloud Pepper and Cloud Pepper and Cloud Pepper and Cloud Pepper and Cloud Pepper and Cloud Pepper and Cloud Pepper and Cloud Pepper and Cloud Pepper and Cloud Pepper and Cloud Pepper and Cloud Pepper and Cloud Pepper and Cloud Pepper and Cloud Pepper and Cloud Pepper and Cloud Pepper and Cloud Pepper and Cloud Pepper and Cloud Pepper and Cloud Pepper and Cloud Pepper and Cloud Pepper and Cloud Pepper and Cloud Pepper and Cloud Pepper and Cloud Pepper and Cloud Pepper and Cloud Pepper and Cloud Pepper and Cloud Pepper and Cloud Pepper and Cloud Pepper and Cloud Pepper and Cloud Pepper and Cloud Pepper and Cloud Pepper and Cloud Pepper and Cloud Pepper and Cloud Pepper and Cloud Pepper and Cloud Pepper and Cloud Pepper and Cloud Pepper and Cloud Pepper and Cloud Pepper and Cloud Pepper and Cloud '"
      ]
     },
     "execution_count": 4,
     "metadata": {},
     "output_type": "execute_result"
    }
   ],
   "source": [
    "# Command that makes a string appear 100 times \n",
    "h = 'Pepper and Cloud '\n",
    "h * 100"
   ]
  },
  {
   "cell_type": "code",
   "execution_count": null,
   "id": "654cb9bb",
   "metadata": {},
   "outputs": [],
   "source": []
  }
 ],
 "metadata": {
  "kernelspec": {
   "display_name": "Python 3 (ipykernel)",
   "language": "python",
   "name": "python3"
  },
  "language_info": {
   "codemirror_mode": {
    "name": "ipython",
    "version": 3
   },
   "file_extension": ".py",
   "mimetype": "text/x-python",
   "name": "python",
   "nbconvert_exporter": "python",
   "pygments_lexer": "ipython3",
   "version": "3.9.13"
  }
 },
 "nbformat": 4,
 "nbformat_minor": 5
}
